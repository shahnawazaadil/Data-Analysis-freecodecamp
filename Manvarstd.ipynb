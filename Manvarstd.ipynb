{
 "cells": [
  {
   "cell_type": "code",
   "execution_count": 36,
   "id": "a3a471f0",
   "metadata": {},
   "outputs": [
    {
     "name": "stdout",
     "output_type": "stream",
     "text": [
      "00\n",
      "11\n",
      "22\n",
      "33\n",
      "44\n",
      "55\n",
      "66\n",
      "77\n",
      "88\n"
     ]
    }
   ],
   "source": [
    "import numpy as np\n",
    "\n",
    "a=[]\n",
    "for i in range(9):\n",
    "    a.append(float(input(i)))\n",
    "a=np.array(a).reshape(3,3)"
   ]
  },
  {
   "cell_type": "code",
   "execution_count": 49,
   "id": "b8dd22db",
   "metadata": {},
   "outputs": [],
   "source": [
    "dicti={}\n",
    "dicti['mean']=[a.mean(axis=0).tolist(), a.mean(axis=1).tolist(), a.mean()]\n",
    "dicti['variance']=[a.var(axis=0).tolist(), a.var(axis=1).tolist(), a.var()]\n",
    "dicti['standard deviation']=[a.std(axis=0).tolist(), a.std(axis=1).tolist(), a.std()]\n",
    "dicti['max']=[a.max(axis=0).tolist(), a.max(axis=1).tolist(), a.max()]\n",
    "dicti['min']=[a.min(axis=0).tolist(), a.min(axis=1).tolist(), a.min()]\n",
    "dicti['sum']=[a.sum(axis=0).tolist(), a.sum(axis=1).tolist(), a.sum()]"
   ]
  },
  {
   "cell_type": "code",
   "execution_count": 50,
   "id": "09d2214e",
   "metadata": {},
   "outputs": [
    {
     "name": "stdout",
     "output_type": "stream",
     "text": [
      "{'mean': [[3.0, 4.0, 5.0], [1.0, 4.0, 7.0], 4.0], 'variance': [[6.0, 6.0, 6.0], [0.6666666666666666, 0.6666666666666666, 0.6666666666666666], 6.666666666666667], 'standard deviation': [[2.449489742783178, 2.449489742783178, 2.449489742783178], [0.816496580927726, 0.816496580927726, 0.816496580927726], 2.581988897471611], 'max': [[6.0, 7.0, 8.0], [2.0, 5.0, 8.0], 8.0], 'min': [[0.0, 1.0, 2.0], [0.0, 3.0, 6.0], 0.0], 'sum': [[9.0, 12.0, 15.0], [3.0, 12.0, 21.0], 36.0]}\n"
     ]
    }
   ],
   "source": [
    "print(dicti)"
   ]
  }
 ],
 "metadata": {
  "kernelspec": {
   "display_name": "Python 3 (ipykernel)",
   "language": "python",
   "name": "python3"
  },
  "language_info": {
   "codemirror_mode": {
    "name": "ipython",
    "version": 3
   },
   "file_extension": ".py",
   "mimetype": "text/x-python",
   "name": "python",
   "nbconvert_exporter": "python",
   "pygments_lexer": "ipython3",
   "version": "3.11.4"
  }
 },
 "nbformat": 4,
 "nbformat_minor": 5
}
